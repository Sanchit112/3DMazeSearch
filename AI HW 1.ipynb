{
 "cells": [
  {
   "cell_type": "code",
   "execution_count": 5,
   "id": "3d9f47b3",
   "metadata": {},
   "outputs": [
    {
     "name": "stdout",
     "output_type": "stream",
     "text": [
      "26 66 16 2 4\n"
     ]
    }
   ],
   "source": [
    "import os\n",
    "fname = 'input.txt'\n",
    "with open(fname, 'rb') as f:\n",
    "    f.seek(-2, os.SEEK_END)\n",
    "    while f.read(1) != b'\\n':\n",
    "        f.seek(-2, os.SEEK_CUR)\n",
    "    ed = tuple(map(int, f.readline().decode().strip().split()))[0:3]"
   ]
  },
  {
   "cell_type": "code",
   "execution_count": 1,
   "id": "9dbe5cf2",
   "metadata": {},
   "outputs": [],
   "source": []
  }
 ],
 "metadata": {
  "kernelspec": {
   "display_name": "Python 3 (ipykernel)",
   "language": "python",
   "name": "python3"
  },
  "language_info": {
   "codemirror_mode": {
    "name": "ipython",
    "version": 3
   },
   "file_extension": ".py",
   "mimetype": "text/x-python",
   "name": "python",
   "nbconvert_exporter": "python",
   "pygments_lexer": "ipython3",
   "version": "3.9.7"
  }
 },
 "nbformat": 4,
 "nbformat_minor": 5
}